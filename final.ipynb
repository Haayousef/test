{
  "metadata": {
    "kernelspec": {
      "name": "python",
      "display_name": "Pyolite",
      "language": "python"
    },
    "language_info": {
      "codemirror_mode": {
        "name": "python",
        "version": 3
      },
      "file_extension": ".py",
      "mimetype": "text/x-python",
      "name": "python",
      "nbconvert_exporter": "python",
      "pygments_lexer": "ipython3",
      "version": "3.8"
    }
  },
  "nbformat_minor": 4,
  "nbformat": 4,
  "cells": [
    {
      "cell_type": "markdown",
      "source": "<center>\n    <img src=\"https://cf-courses-data.s3.us.cloud-object-storage.appdomain.cloud/IBMDeveloperSkillsNetwork-DS0105EN-SkillsNetwork/labs/Module2/images/SN_web_lightmode.png\" width=\"300\" alt=\"cognitiveclass.ai logo\"  />\n</center>\n",
      "metadata": {}
    },
    {
      "cell_type": "markdown",
      "source": "#### Add your code below following the instructions given in the course\n",
      "metadata": {}
    },
    {
      "cell_type": "markdown",
      "source": "# My Jupyter Notebook on IBM Watson Studio",
      "metadata": {}
    },
    {
      "cell_type": "markdown",
      "source": "My name is **Hassan Yousef**\n\ni'm a fresh graduate from Electrical and Electronic Engineering (Electronic Systems Software Engineering),and my desired occupation is being a great Data Scientist.",
      "metadata": {}
    },
    {
      "cell_type": "markdown",
      "source": "*I am interested in data science due to curosity, I want to find hiddent stories behind data which stay unheard.*",
      "metadata": {}
    },
    {
      "cell_type": "markdown",
      "source": "### The Following Code will Display today's time and date",
      "metadata": {}
    },
    {
      "cell_type": "code",
      "source": "import datetime \nmessage = \"Today's Date and Time is \" \nprint (message , datetime.datetime.now() )",
      "metadata": {
        "trusted": true
      },
      "execution_count": 1,
      "outputs": [
        {
          "name": "stdout",
          "text": "Today's Date and Time is  2022-11-16 00:34:09.996000\n",
          "output_type": "stream"
        }
      ]
    },
    {
      "cell_type": "markdown",
      "source": "| header | header | header |\n| ------ | ------ | ------ |\n| cell   | cell | cell |\n| ------ | ------ | ------ |\n| cell   | cell | cell |\n| ------ | ------ | ------ |\n| cell   | cell | cell |\n| ------ | ------ | ------ |\n| cell   | cell | cell |\n",
      "metadata": {}
    }
  ]
}