{
  "metadata": {
    "kernelspec": {
      "name": "python",
      "display_name": "Pyolite",
      "language": "python"
    },
    "language_info": {
      "codemirror_mode": {
        "name": "python",
        "version": 3
      },
      "file_extension": ".py",
      "mimetype": "text/x-python",
      "name": "python",
      "nbconvert_exporter": "python",
      "pygments_lexer": "ipython3",
      "version": "3.8"
    }
  },
  "nbformat_minor": 4,
  "nbformat": 4,
  "cells": [
    {
      "cell_type": "markdown",
      "source": "<center>\n    <img src=\"https://cf-courses-data.s3.us.cloud-object-storage.appdomain.cloud/IBMDeveloperSkillsNetwork-DS0105EN-SkillsNetwork/labs/Module2/images/SN_web_lightmode.png\" width=\"300\" alt=\"cognitiveclass.ai logo\"  />\n</center>\n",
      "metadata": {}
    },
    {
      "cell_type": "markdown",
      "source": "#### Add your code below following the instructions given in the course\n",
      "metadata": {}
    },
    {
      "cell_type": "markdown",
      "source": "# My Jupyter Notebook on IBM Watson Studio",
      "metadata": {}
    },
    {
      "cell_type": "markdown",
      "source": "My name is **Hassan Yousef**\n\ni'm a fresh graduate from Electrical and Electronic Engineering (Electronic Systems Software Engineering),and my desired occupation is being a great Data Scientist.",
      "metadata": {}
    },
    {
      "cell_type": "markdown",
      "source": "*I am interested in data science due to curosity, I want to find hiddent stories behind data which stay unheard.*",
      "metadata": {}
    },
    {
      "cell_type": "markdown",
      "source": "### The Following Code will Display today's time and date",
      "metadata": {}
    },
    {
      "cell_type": "code",
      "source": "import datetime \nmessage = \"Today's Date and Time is \" \nprint (message , datetime.datetime.now() )",
      "metadata": {
        "trusted": true
      },
      "execution_count": 1,
      "outputs": [
        {
          "name": "stdout",
          "text": "Today's Date and Time is  2022-11-16 00:34:09.996000\n",
          "output_type": "stream"
        }
      ]
    },
    {
      "cell_type": "markdown",
      "source": "___\n###  1. Assignment Topic:  \nCreate a Jupyter Notebook using IBM Watson Studio. You can choose any language you want (Python, R, or Scala). You will need to include a combination of markdown and code cells. You will likely need to use the Markdown cheatsheet to help you determine the appropriate syntax to style your markdown.\n___\n\n#####  2. _Guidelines for the submission_\n\nCreate your Jupyter Notebook on IBM Watson Studio\nInclude at least 6 cells:\n* Cell 1 (rendered as Markdown): The title should be \"My Jupyter Notebook on IBM Data Science Experience\", in H1 header styling. The title does not need to be centered.\n* Cell 2 (rendered as Markdown): Your name, in bold characters. In the line below your name, write your current or desired occupation in regular font.\n* Cell 3 (rendered as Markdown): In italic formatting, write one or two sentences about why you are interested in data science. For example, you can start your first sentence with \"I am interested in data science because ...\".\n* Cell 4 (rendered as Markdown): In H3 header styling, explain in a short sentence what your code is supposed to do in Cell 5.\n* Cell 5 (code cell): Your code, as described in Cell 4. It must be executed and must display an output. Try to keep the code simple (it can even be \"1 + 1\").\n* Cell 6 (rendered as Markdown): Using Markdown or HTML, this cell must include at least 3 of the following: horizontal rule, bulleted list, numbered list, tables, hyperlinks, images, `code/syntax highlighting`, blocked quotes, ~~strikethrough~~.\n\n___\n",
      "metadata": {}
    },
    {
      "cell_type": "markdown",
      "source": "| header | header | header |\n| ------ | ------ | ------ |\n| cell   | cell | cell |\n| ------ | ------ | ------ |\n| cell   | cell | cell |\n| ------ | ------ | ------ |\n| cell   | cell | cell |\n| ------ | ------ | ------ |\n| cell   | cell | cell |\n",
      "metadata": {}
    },
    {
      "cell_type": "code",
      "source": "",
      "metadata": {},
      "execution_count": null,
      "outputs": []
    }
  ]
}